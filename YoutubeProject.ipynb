{
  "nbformat": 4,
  "nbformat_minor": 0,
  "metadata": {
    "colab": {
      "provenance": []
    },
    "kernelspec": {
      "name": "python3",
      "display_name": "Python 3"
    },
    "language_info": {
      "name": "python"
    }
  },
  "cells": [
    {
      "cell_type": "markdown",
      "source": [
        "#Pyspark ETL Process"
      ],
      "metadata": {
        "id": "_N576FsbTBlK"
      }
    },
    {
      "cell_type": "markdown",
      "source": [
        "##Installations"
      ],
      "metadata": {
        "id": "9fDO4XM5TWiG"
      }
    },
    {
      "cell_type": "code",
      "execution_count": 1,
      "metadata": {
        "colab": {
          "base_uri": "https://localhost:8080/"
        },
        "id": "lfYmi0O_zb31",
        "outputId": "6e9b8255-714e-4e27-f69d-d011e14d9fd2"
      },
      "outputs": [
        {
          "output_type": "stream",
          "name": "stdout",
          "text": [
            "\u001b[33m\r0% [Working]\u001b[0m\r            \rHit:1 http://archive.ubuntu.com/ubuntu jammy InRelease\n",
            "\u001b[33m\r0% [Waiting for headers] [Connected to cloud.r-project.org (18.160.213.101)] [C\u001b[0m\r                                                                               \rGet:2 http://security.ubuntu.com/ubuntu jammy-security InRelease [110 kB]\n",
            "\r                                                                               \rGet:3 https://cloud.r-project.org/bin/linux/ubuntu jammy-cran40/ InRelease [3,626 B]\n",
            "\u001b[33m\r0% [Waiting for headers] [2 InRelease 14.2 kB/110 kB 13%] [Connecting to ppa.la\u001b[0m\r                                                                               \rGet:4 http://archive.ubuntu.com/ubuntu jammy-updates InRelease [119 kB]\n",
            "Get:5 https://developer.download.nvidia.com/compute/cuda/repos/ubuntu2204/x86_64  InRelease [1,581 B]\n",
            "Hit:6 http://archive.ubuntu.com/ubuntu jammy-backports InRelease\n",
            "Hit:7 https://ppa.launchpadcontent.net/c2d4u.team/c2d4u4.0+/ubuntu jammy InRelease\n",
            "Get:8 https://developer.download.nvidia.com/compute/cuda/repos/ubuntu2204/x86_64  Packages [805 kB]\n",
            "Hit:9 https://ppa.launchpadcontent.net/deadsnakes/ppa/ubuntu jammy InRelease\n",
            "Hit:10 https://ppa.launchpadcontent.net/graphics-drivers/ppa/ubuntu jammy InRelease\n",
            "Hit:11 https://ppa.launchpadcontent.net/ubuntugis/ppa/ubuntu jammy InRelease\n",
            "Get:12 http://security.ubuntu.com/ubuntu jammy-security/main amd64 Packages [1,690 kB]\n",
            "Get:13 http://archive.ubuntu.com/ubuntu jammy-updates/main amd64 Packages [1,969 kB]\n",
            "Get:14 http://security.ubuntu.com/ubuntu jammy-security/restricted amd64 Packages [2,124 kB]\n",
            "Get:15 http://security.ubuntu.com/ubuntu jammy-security/multiverse amd64 Packages [44.7 kB]\n",
            "Get:16 http://security.ubuntu.com/ubuntu jammy-security/universe amd64 Packages [1,081 kB]\n",
            "Get:17 http://archive.ubuntu.com/ubuntu jammy-updates/multiverse amd64 Packages [61.3 kB]\n",
            "Get:18 http://archive.ubuntu.com/ubuntu jammy-updates/universe amd64 Packages [1,357 kB]\n",
            "Get:19 http://archive.ubuntu.com/ubuntu jammy-updates/restricted amd64 Packages [2,173 kB]\n",
            "Fetched 11.5 MB in 3s (3,552 kB/s)\n",
            "Reading package lists... Done\n",
            "Building dependency tree... Done\n",
            "Reading state information... Done\n",
            "45 packages can be upgraded. Run 'apt list --upgradable' to see them.\n",
            "tar: spark-3.2.1-bin-hadoop3.2.tgz: Cannot open: No such file or directory\n",
            "tar: Error is not recoverable: exiting now\n",
            "Collecting pyspark\n",
            "  Downloading pyspark-3.5.1.tar.gz (317.0 MB)\n",
            "\u001b[2K     \u001b[90m━━━━━━━━━━━━━━━━━━━━━━━━━━━━━━━━━━━━━━━━\u001b[0m \u001b[32m317.0/317.0 MB\u001b[0m \u001b[31m1.0 MB/s\u001b[0m eta \u001b[36m0:00:00\u001b[0m\n",
            "\u001b[?25h  Preparing metadata (setup.py) ... \u001b[?25l\u001b[?25hdone\n",
            "Requirement already satisfied: py4j==0.10.9.7 in /usr/local/lib/python3.10/dist-packages (from pyspark) (0.10.9.7)\n",
            "Building wheels for collected packages: pyspark\n",
            "  Building wheel for pyspark (setup.py) ... \u001b[?25l\u001b[?25hdone\n",
            "  Created wheel for pyspark: filename=pyspark-3.5.1-py2.py3-none-any.whl size=317488491 sha256=a312e429fd7799b27db0f45986da3f5bc058067c8a48b8bd077ce3044b1f6880\n",
            "  Stored in directory: /root/.cache/pip/wheels/80/1d/60/2c256ed38dddce2fdd93be545214a63e02fbd8d74fb0b7f3a6\n",
            "Successfully built pyspark\n",
            "Installing collected packages: pyspark\n",
            "Successfully installed pyspark-3.5.1\n",
            "Requirement already satisfied: py4j in /usr/local/lib/python3.10/dist-packages (0.10.9.7)\n"
          ]
        }
      ],
      "source": [
        "!sudo apt update\n",
        "!apt-get install openjdk-8-jdk-headless -qq > /dev/null\n",
        "!wget -q https://dlcdn.apache.org/spark/spark-3.2.1/spark-3.2.1-bin-hadoop3.2.tgz\n",
        "!tar xf spark-3.2.1-bin-hadoop3.2.tgz\n",
        "!pip install -q findspark\n",
        "!pip install pyspark\n",
        "!pip install py4j"
      ]
    },
    {
      "cell_type": "code",
      "source": [
        "import os\n",
        "import sys\n",
        "\n",
        "import findspark\n",
        "findspark.init()\n",
        "findspark.find()\n"
      ],
      "metadata": {
        "id": "BJkI_Bz8zrZy",
        "colab": {
          "base_uri": "https://localhost:8080/",
          "height": 36
        },
        "outputId": "d1cb991f-73eb-4d40-9def-c72393a54c1f"
      },
      "execution_count": 2,
      "outputs": [
        {
          "output_type": "execute_result",
          "data": {
            "text/plain": [
              "'/usr/local/lib/python3.10/dist-packages/pyspark'"
            ],
            "application/vnd.google.colaboratory.intrinsic+json": {
              "type": "string"
            }
          },
          "metadata": {},
          "execution_count": 2
        }
      ]
    },
    {
      "cell_type": "markdown",
      "source": [
        "##Imports"
      ],
      "metadata": {
        "id": "8ZLV6Hz5T2AM"
      }
    },
    {
      "cell_type": "code",
      "source": [
        "from pyspark.sql import SparkSession"
      ],
      "metadata": {
        "id": "n1r7jsH4zuqz"
      },
      "execution_count": 3,
      "outputs": []
    },
    {
      "cell_type": "code",
      "source": [
        "from pyspark.sql.functions import col, explode, year, sum, countDistinct, desc\n",
        "from pyspark.sql.types import StructType, StructField, IntegerType, StringType, DateType"
      ],
      "metadata": {
        "id": "AxsWCHlo0y4r"
      },
      "execution_count": 4,
      "outputs": []
    },
    {
      "cell_type": "code",
      "source": [
        "import matplotlib.pyplot as plt\n",
        "%matplotlib inline"
      ],
      "metadata": {
        "id": "pg3xyPat4FVL"
      },
      "execution_count": 5,
      "outputs": []
    },
    {
      "cell_type": "markdown",
      "source": [
        "##Create SparkSession"
      ],
      "metadata": {
        "id": "xmZT6HOeT9hs"
      }
    },
    {
      "cell_type": "code",
      "source": [
        "spark = SparkSession.builder.appName('PysparkETLyoutube').getOrCreate()"
      ],
      "metadata": {
        "id": "Rxl5IYQ70QXj"
      },
      "execution_count": 6,
      "outputs": []
    },
    {
      "cell_type": "markdown",
      "source": [
        "##Read Datasets"
      ],
      "metadata": {
        "id": "OuSwxnyAUMh4"
      }
    },
    {
      "cell_type": "markdown",
      "source": [
        "Read the *BR_youtube_trending_data.csv* dataset into a Dataframe"
      ],
      "metadata": {
        "id": "-j_F_qF3XUgI"
      }
    },
    {
      "cell_type": "code",
      "source": [
        "BR_youtube_trending_data_schema = StructType(fields=[StructField('video_id', StringType(), False),\n",
        "                                                     StructField('title', StringType(), True),\n",
        "                                                     StructField('publishedAt', DateType(), True),\n",
        "                                                     StructField('channelId', StringType(), True),\n",
        "                                                     StructField('channelTitle', StringType(), True),\n",
        "                                                     StructField('categoryId', StringType(), True),\n",
        "                                                     StructField('trending_date', DateType(), True),\n",
        "                                                     StructField('tags', StringType(), True),\n",
        "                                                     StructField('view_count', IntegerType(), True),\n",
        "                                                     StructField('likes', IntegerType(), True),\n",
        "                                                     StructField('dislikes', IntegerType(), True),\n",
        "                                                     StructField('comment_count', IntegerType(), True),\n",
        "                                                     StructField('thumbnail_link', StringType(), True),\n",
        "                                                     StructField('comments_disabled', StringType(), True),\n",
        "                                                     StructField('ratings_disabled', StringType(), True),\n",
        "                                                     StructField('description', StringType(), True)\n",
        "])"
      ],
      "metadata": {
        "id": "V_UC3lTyrIHz"
      },
      "execution_count": 7,
      "outputs": []
    },
    {
      "cell_type": "code",
      "source": [
        "BR_youtube_trending_data_df = spark.read \\\n",
        ".schema(BR_youtube_trending_data_schema) \\\n",
        ".option('header', True) \\\n",
        ".csv('BR_youtube_trending_data.csv') \\\n",
        ".cache()"
      ],
      "metadata": {
        "id": "Ms1uaXAf0aiK"
      },
      "execution_count": 8,
      "outputs": []
    },
    {
      "cell_type": "code",
      "source": [
        "BR_youtube_trending_data_df.show(2)"
      ],
      "metadata": {
        "id": "5X_dXX6TI_u1",
        "colab": {
          "base_uri": "https://localhost:8080/"
        },
        "outputId": "9711a9cb-28dd-47c1-8a01-d5a7ed123497"
      },
      "execution_count": 9,
      "outputs": [
        {
          "output_type": "stream",
          "name": "stdout",
          "text": [
            "+-----------+--------------------+-----------+--------------------+-----------------+----------+-------------+--------------------+----------+------+--------+-------------+--------------------+-----------------+----------------+--------------------+\n",
            "|   video_id|               title|publishedAt|           channelId|     channelTitle|categoryId|trending_date|                tags|view_count| likes|dislikes|comment_count|      thumbnail_link|comments_disabled|ratings_disabled|         description|\n",
            "+-----------+--------------------+-----------+--------------------+-----------------+----------+-------------+--------------------+----------+------+--------+-------------+--------------------+-----------------+----------------+--------------------+\n",
            "|s9FH4rDMvds|LEVEI UM FORA? FI...| 2020-08-11|UCGfBwrCoi9ZJjKiU...|    Pietro Guedes|        22|   2020-08-12|pietro|guedes|ing...|    263835| 85095|     487|         4500|https://i.ytimg.c...|            False|           False|Salve rapaziada, ...|\n",
            "|jbGRowa5tIk|ITZY “Not Shy” M/...| 2020-08-11|UCaO6TYtlC8U5ttz6...|JYP Entertainment|        10|   2020-08-12|JYP Entertainment...|   6000070|714310|   15176|        31040|https://i.ytimg.c...|            False|           False|ITZY Not Shy M/V[...|\n",
            "+-----------+--------------------+-----------+--------------------+-----------------+----------+-------------+--------------------+----------+------+--------+-------------+--------------------+-----------------+----------------+--------------------+\n",
            "only showing top 2 rows\n",
            "\n"
          ]
        }
      ]
    },
    {
      "cell_type": "code",
      "source": [
        "BR_youtube_trending_data_df.printSchema()"
      ],
      "metadata": {
        "id": "C3TsDbf2xYln",
        "colab": {
          "base_uri": "https://localhost:8080/"
        },
        "outputId": "13f170f9-931d-4b5c-d8cf-ac73e1d354f4"
      },
      "execution_count": 10,
      "outputs": [
        {
          "output_type": "stream",
          "name": "stdout",
          "text": [
            "root\n",
            " |-- video_id: string (nullable = true)\n",
            " |-- title: string (nullable = true)\n",
            " |-- publishedAt: date (nullable = true)\n",
            " |-- channelId: string (nullable = true)\n",
            " |-- channelTitle: string (nullable = true)\n",
            " |-- categoryId: string (nullable = true)\n",
            " |-- trending_date: date (nullable = true)\n",
            " |-- tags: string (nullable = true)\n",
            " |-- view_count: integer (nullable = true)\n",
            " |-- likes: integer (nullable = true)\n",
            " |-- dislikes: integer (nullable = true)\n",
            " |-- comment_count: integer (nullable = true)\n",
            " |-- thumbnail_link: string (nullable = true)\n",
            " |-- comments_disabled: string (nullable = true)\n",
            " |-- ratings_disabled: string (nullable = true)\n",
            " |-- description: string (nullable = true)\n",
            "\n"
          ]
        }
      ]
    },
    {
      "cell_type": "code",
      "source": [
        "BR_youtube_trending_data_df.count()"
      ],
      "metadata": {
        "colab": {
          "base_uri": "https://localhost:8080/"
        },
        "id": "Q87IUBJ9luMg",
        "outputId": "b2cde00c-e19b-4ad9-a034-15917fe76bf7"
      },
      "execution_count": 11,
      "outputs": [
        {
          "output_type": "execute_result",
          "data": {
            "text/plain": [
              "320085"
            ]
          },
          "metadata": {},
          "execution_count": 11
        }
      ]
    },
    {
      "cell_type": "markdown",
      "source": [
        "Read the *BR_category_id.json* into a Dataframe"
      ],
      "metadata": {
        "id": "BpdKuA5eaef3"
      }
    },
    {
      "cell_type": "code",
      "source": [
        "BR_category_id_df = spark.read \\\n",
        ".option('multiline', True) \\\n",
        ".json('BR_category_id.json')"
      ],
      "metadata": {
        "id": "Y2SvReRceP4Y"
      },
      "execution_count": 12,
      "outputs": []
    },
    {
      "cell_type": "code",
      "source": [
        "BR_category_id_df.printSchema()"
      ],
      "metadata": {
        "colab": {
          "base_uri": "https://localhost:8080/"
        },
        "id": "c4J-Pfnwi0-m",
        "outputId": "8c92ee8a-b6a9-4c28-cd15-dcf499adf674"
      },
      "execution_count": 13,
      "outputs": [
        {
          "output_type": "stream",
          "name": "stdout",
          "text": [
            "root\n",
            " |-- etag: string (nullable = true)\n",
            " |-- items: array (nullable = true)\n",
            " |    |-- element: struct (containsNull = true)\n",
            " |    |    |-- etag: string (nullable = true)\n",
            " |    |    |-- id: string (nullable = true)\n",
            " |    |    |-- kind: string (nullable = true)\n",
            " |    |    |-- snippet: struct (nullable = true)\n",
            " |    |    |    |-- assignable: boolean (nullable = true)\n",
            " |    |    |    |-- channelId: string (nullable = true)\n",
            " |    |    |    |-- title: string (nullable = true)\n",
            " |-- kind: string (nullable = true)\n",
            "\n"
          ]
        }
      ]
    },
    {
      "cell_type": "code",
      "source": [
        "BR_category_id_allfields_df = BR_category_id_df.select(col('kind').alias('kind_first'), col('etag').alias('etag_first'), explode(col('items')).alias('items')) \\\n",
        ".select('kind_first', 'etag_first', 'items.*') \\\n",
        ".select('kind_first', 'etag_first', 'etag', 'id', 'kind', 'snippet.*')"
      ],
      "metadata": {
        "id": "1Cvc22iDrWkq"
      },
      "execution_count": 14,
      "outputs": []
    },
    {
      "cell_type": "code",
      "source": [
        "BR_category_id_allfields_df.show(2)"
      ],
      "metadata": {
        "colab": {
          "base_uri": "https://localhost:8080/"
        },
        "id": "T5uisCNvpPyY",
        "outputId": "64e3f840-11b9-43f6-abbd-3ab3b418ea31"
      },
      "execution_count": 15,
      "outputs": [
        {
          "output_type": "stream",
          "name": "stdout",
          "text": [
            "+--------------------+--------------------+--------------------+---+--------------------+----------+--------------------+----------------+\n",
            "|          kind_first|          etag_first|                etag| id|                kind|assignable|           channelId|           title|\n",
            "+--------------------+--------------------+--------------------+---+--------------------+----------+--------------------+----------------+\n",
            "|youtube#videoCate...|kBCr3I9kLHHU79W4I...|IfWa37JGcqZs-jZeA...|  1|youtube#videoCate...|      true|UCBR8-60-B28hp2Bm...|Film & Animation|\n",
            "|youtube#videoCate...|kBCr3I9kLHHU79W4I...|5XGylIs7zkjHh5940...|  2|youtube#videoCate...|      true|UCBR8-60-B28hp2Bm...|Autos & Vehicles|\n",
            "+--------------------+--------------------+--------------------+---+--------------------+----------+--------------------+----------------+\n",
            "only showing top 2 rows\n",
            "\n"
          ]
        }
      ]
    },
    {
      "cell_type": "code",
      "source": [
        "final_category_id_df = BR_category_id_allfields_df.select('id', 'title')"
      ],
      "metadata": {
        "id": "YA_8i5rCpzre"
      },
      "execution_count": 16,
      "outputs": []
    },
    {
      "cell_type": "code",
      "source": [
        "final_category_id_df.show(2)"
      ],
      "metadata": {
        "colab": {
          "base_uri": "https://localhost:8080/"
        },
        "id": "w_9hpR9QrncF",
        "outputId": "4c556fd3-77f3-47fc-91a7-ef5bec22dc41"
      },
      "execution_count": 17,
      "outputs": [
        {
          "output_type": "stream",
          "name": "stdout",
          "text": [
            "+---+----------------+\n",
            "| id|           title|\n",
            "+---+----------------+\n",
            "|  1|Film & Animation|\n",
            "|  2|Autos & Vehicles|\n",
            "+---+----------------+\n",
            "only showing top 2 rows\n",
            "\n"
          ]
        }
      ]
    },
    {
      "cell_type": "markdown",
      "source": [
        "##Data Cleaning"
      ],
      "metadata": {
        "id": "SLAWKx7aUWce"
      }
    },
    {
      "cell_type": "code",
      "source": [
        "BR_youtube_trending_data_cleaned_df = BR_youtube_trending_data_df.na.drop(thresh=13)"
      ],
      "metadata": {
        "id": "UTKdoot77gGV"
      },
      "execution_count": 18,
      "outputs": []
    },
    {
      "cell_type": "code",
      "source": [
        "BR_youtube_trending_data_cleaned_df.count()"
      ],
      "metadata": {
        "colab": {
          "base_uri": "https://localhost:8080/"
        },
        "id": "sTfUrhDs7qkn",
        "outputId": "62a8780b-fa8c-4977-decb-7937275cfd57"
      },
      "execution_count": 19,
      "outputs": [
        {
          "output_type": "execute_result",
          "data": {
            "text/plain": [
              "257390"
            ]
          },
          "metadata": {},
          "execution_count": 19
        }
      ]
    },
    {
      "cell_type": "markdown",
      "source": [
        "##Select Specific Columns and Rename Them"
      ],
      "metadata": {
        "id": "umq1jhyNUtYk"
      }
    },
    {
      "cell_type": "code",
      "source": [
        "BR_youtube_trending_data_selected_df = BR_youtube_trending_data_cleaned_df.select(col('video_id'), col('title'), col('publishedAt'), col('channelId'), col('channelTitle'),\n",
        "                                                                                  col('trending_date'), col('view_count'), col('likes'), col('dislikes'), col('comment_count'),\n",
        "                                                                                  col('comments_disabled'), col('ratings_disabled'), col('categoryId')) \\\n",
        "                                                                          .withColumnRenamed('title', 'video_title') \\\n",
        "                                                                          .withColumnRenamed('publishedAt', 'published_date') \\\n",
        "                                                                          .withColumnRenamed('channelId', 'channel_id') \\\n",
        "                                                                          .withColumnRenamed('channelTitle', 'channel_title') \\\n",
        "                                                                          .withColumnRenamed('categoryId', 'category_id') \\\n",
        "                                                                          .withColumn('publish_year', year(col('published_date')))"
      ],
      "metadata": {
        "id": "Z-nwnB2OrpKK"
      },
      "execution_count": 20,
      "outputs": []
    },
    {
      "cell_type": "code",
      "source": [
        "BR_youtube_trending_data_selected_df.show(2)"
      ],
      "metadata": {
        "colab": {
          "base_uri": "https://localhost:8080/"
        },
        "id": "S5t1b-FUwyNo",
        "outputId": "6ed4d17e-ac70-4fc1-8ac7-e87d70daae17"
      },
      "execution_count": 21,
      "outputs": [
        {
          "output_type": "stream",
          "name": "stdout",
          "text": [
            "+-----------+--------------------+--------------+--------------------+-----------------+-------------+----------+------+--------+-------------+-----------------+----------------+-----------+------------+\n",
            "|   video_id|         video_title|published_date|          channel_id|    channel_title|trending_date|view_count| likes|dislikes|comment_count|comments_disabled|ratings_disabled|category_id|publish_year|\n",
            "+-----------+--------------------+--------------+--------------------+-----------------+-------------+----------+------+--------+-------------+-----------------+----------------+-----------+------------+\n",
            "|s9FH4rDMvds|LEVEI UM FORA? FI...|    2020-08-11|UCGfBwrCoi9ZJjKiU...|    Pietro Guedes|   2020-08-12|    263835| 85095|     487|         4500|            False|           False|         22|        2020|\n",
            "|jbGRowa5tIk|ITZY “Not Shy” M/...|    2020-08-11|UCaO6TYtlC8U5ttz6...|JYP Entertainment|   2020-08-12|   6000070|714310|   15176|        31040|            False|           False|         10|        2020|\n",
            "+-----------+--------------------+--------------+--------------------+-----------------+-------------+----------+------+--------+-------------+-----------------+----------------+-----------+------------+\n",
            "only showing top 2 rows\n",
            "\n"
          ]
        }
      ]
    },
    {
      "cell_type": "markdown",
      "source": [
        "##Join Dataframes on *category_id*"
      ],
      "metadata": {
        "id": "6HwNtYccU_xw"
      }
    },
    {
      "cell_type": "code",
      "source": [
        "youtube_final_df = BR_youtube_trending_data_selected_df.join(final_category_id_df, BR_youtube_trending_data_selected_df.category_id == final_category_id_df.id, 'left') \\\n",
        ".select(col('video_id'), col('video_title'),  col('channel_id'), col('channel_title'), col('published_date'),\n",
        "        col('trending_date'), col('view_count'), col('likes'), col('dislikes'), col('comment_count'),\n",
        "        col('comments_disabled'), col('ratings_disabled'), col('category_id'), col('title'), col('publish_year')) \\\n",
        ".withColumnRenamed('title', 'category')"
      ],
      "metadata": {
        "id": "6tdf_MrE8QV_"
      },
      "execution_count": 22,
      "outputs": []
    },
    {
      "cell_type": "code",
      "source": [
        "youtube_final_df.show(2)"
      ],
      "metadata": {
        "colab": {
          "base_uri": "https://localhost:8080/"
        },
        "id": "-6Q_aDVj9UJh",
        "outputId": "76f36c8f-d651-4c6a-e3dc-8c989befd8f2"
      },
      "execution_count": 23,
      "outputs": [
        {
          "output_type": "stream",
          "name": "stdout",
          "text": [
            "+-----------+--------------------+--------------------+-----------------+--------------+-------------+----------+------+--------+-------------+-----------------+----------------+-----------+--------------+------------+\n",
            "|   video_id|         video_title|          channel_id|    channel_title|published_date|trending_date|view_count| likes|dislikes|comment_count|comments_disabled|ratings_disabled|category_id|      category|publish_year|\n",
            "+-----------+--------------------+--------------------+-----------------+--------------+-------------+----------+------+--------+-------------+-----------------+----------------+-----------+--------------+------------+\n",
            "|s9FH4rDMvds|LEVEI UM FORA? FI...|UCGfBwrCoi9ZJjKiU...|    Pietro Guedes|    2020-08-11|   2020-08-12|    263835| 85095|     487|         4500|            False|           False|         22|People & Blogs|        2020|\n",
            "|jbGRowa5tIk|ITZY “Not Shy” M/...|UCaO6TYtlC8U5ttz6...|JYP Entertainment|    2020-08-11|   2020-08-12|   6000070|714310|   15176|        31040|            False|           False|         10|         Music|        2020|\n",
            "+-----------+--------------------+--------------------+-----------------+--------------+-------------+----------+------+--------+-------------+-----------------+----------------+-----------+--------------+------------+\n",
            "only showing top 2 rows\n",
            "\n"
          ]
        }
      ]
    },
    {
      "cell_type": "markdown",
      "source": [
        "##GroupBy and Aggregations"
      ],
      "metadata": {
        "id": "YaptZuiVVQBI"
      }
    },
    {
      "cell_type": "code",
      "source": [
        "youtube_final_grouped_df = youtube_final_df\\\n",
        ".groupBy('category') \\\n",
        ".agg(sum('view_count').alias('total_view_count'), sum('likes').alias('total_likes'), sum('dislikes').alias('total_dislikes'),\n",
        "     countDistinct('video_id').alias('number_of_video_id')) \\\n",
        ".orderBy(desc('total_view_count'))"
      ],
      "metadata": {
        "id": "yfQ8iWxp9WvU"
      },
      "execution_count": 24,
      "outputs": []
    },
    {
      "cell_type": "code",
      "source": [
        "youtube_output_df = youtube_final_grouped_df.fillna({'category':'Not specified'})"
      ],
      "metadata": {
        "id": "P24Fbr0w_cBS"
      },
      "execution_count": 25,
      "outputs": []
    },
    {
      "cell_type": "code",
      "source": [
        "youtube_output_df.show()"
      ],
      "metadata": {
        "colab": {
          "base_uri": "https://localhost:8080/"
        },
        "id": "u11nq5yg1yS3",
        "outputId": "e6da550d-17ce-44f2-c164-1a02df0f945b"
      },
      "execution_count": 26,
      "outputs": [
        {
          "output_type": "stream",
          "name": "stdout",
          "text": [
            "+--------------------+----------------+-----------+--------------+------------------+\n",
            "|            category|total_view_count|total_likes|total_dislikes|number_of_video_id|\n",
            "+--------------------+----------------+-----------+--------------+------------------+\n",
            "|               Music|    183513768694|11760799617|      99601624|              7548|\n",
            "|       Entertainment|     92053312487| 5867127148|      41255107|              9278|\n",
            "|              Gaming|     41120071831| 2277646981|      14402294|              5715|\n",
            "|              Sports|     30187670261| 1344734776|       8264539|              6876|\n",
            "|      People & Blogs|     24993319699| 2002087774|      22898820|              4446|\n",
            "|              Comedy|      8419322245|  782885197|      10409764|              1417|\n",
            "|Science & Technology|      8286633718|  262693293|       3738658|               496|\n",
            "|    Film & Animation|      5830674820|  218843849|       1233210|               412|\n",
            "|     News & Politics|      2893141479|   88032105|       1528764|               625|\n",
            "|           Education|      2115575183|   82938667|        636332|               483|\n",
            "|       Howto & Style|      1324190485|   89709025|        814557|               266|\n",
            "|    Autos & Vehicles|       959394630|   69489665|        249514|               332|\n",
            "|     Travel & Events|       574099350|   42718086|        116768|               176|\n",
            "|      Pets & Animals|       155479970|   13703895|        144826|                49|\n",
            "|       Not specified|       123733304|    4794349|         31488|                 9|\n",
            "+--------------------+----------------+-----------+--------------+------------------+\n",
            "\n"
          ]
        }
      ]
    },
    {
      "cell_type": "markdown",
      "source": [
        "##Write the Output Dataframe into a Parquet File and Read it Back\n"
      ],
      "metadata": {
        "id": "LONTwUseVsET"
      }
    },
    {
      "cell_type": "code",
      "source": [
        "youtube_output_df.write.mode('overwrite').parquet('youtube_output_df')"
      ],
      "metadata": {
        "id": "loQ0BhT9I1xB"
      },
      "execution_count": 27,
      "outputs": []
    },
    {
      "cell_type": "code",
      "source": [
        "spark.read.parquet('youtube_output_df').show()"
      ],
      "metadata": {
        "id": "n4414est1pgM",
        "colab": {
          "base_uri": "https://localhost:8080/"
        },
        "outputId": "713d1443-e822-4a0f-aade-1d8bcba08daf"
      },
      "execution_count": 28,
      "outputs": [
        {
          "output_type": "stream",
          "name": "stdout",
          "text": [
            "+--------------------+----------------+-----------+--------------+------------------+\n",
            "|            category|total_view_count|total_likes|total_dislikes|number_of_video_id|\n",
            "+--------------------+----------------+-----------+--------------+------------------+\n",
            "|               Music|    183513768694|11760799617|      99601624|              7548|\n",
            "|       Entertainment|     92053312487| 5867127148|      41255107|              9278|\n",
            "|              Gaming|     41120071831| 2277646981|      14402294|              5715|\n",
            "|              Sports|     30187670261| 1344734776|       8264539|              6876|\n",
            "|      People & Blogs|     24993319699| 2002087774|      22898820|              4446|\n",
            "|              Comedy|      8419322245|  782885197|      10409764|              1417|\n",
            "|Science & Technology|      8286633718|  262693293|       3738658|               496|\n",
            "|    Film & Animation|      5830674820|  218843849|       1233210|               412|\n",
            "|     News & Politics|      2893141479|   88032105|       1528764|               625|\n",
            "|           Education|      2115575183|   82938667|        636332|               483|\n",
            "|       Howto & Style|      1324190485|   89709025|        814557|               266|\n",
            "|    Autos & Vehicles|       959394630|   69489665|        249514|               332|\n",
            "|     Travel & Events|       574099350|   42718086|        116768|               176|\n",
            "|      Pets & Animals|       155479970|   13703895|        144826|                49|\n",
            "|       Not specified|       123733304|    4794349|         31488|                 9|\n",
            "+--------------------+----------------+-----------+--------------+------------------+\n",
            "\n"
          ]
        }
      ]
    },
    {
      "cell_type": "markdown",
      "source": [
        "##Data Visualization"
      ],
      "metadata": {
        "id": "jMBkuTt1V_7n"
      }
    },
    {
      "cell_type": "code",
      "source": [
        "x = [youtube_output_df.category for youtube_output_df in youtube_output_df.select('category').collect()]\n",
        "y = [youtube_output_df.total_view_count for youtube_output_df in youtube_output_df.select('total_view_count').collect()]"
      ],
      "metadata": {
        "id": "xRKQ2jYy7GIh"
      },
      "execution_count": 29,
      "outputs": []
    },
    {
      "cell_type": "code",
      "source": [
        "fig = plt.figure(figsize=(22,10))\n",
        "ax = fig.add_axes([0,0,1,1])\n",
        "ax.bar(x,y,color='#1b9e77')\n",
        "ax.set_xlabel('Categories')\n",
        "ax.set_ylabel('Total views')\n",
        "ax.set_title('Total views per category')"
      ],
      "metadata": {
        "id": "m9XvmyQ2SnT1",
        "colab": {
          "base_uri": "https://localhost:8080/",
          "height": 564
        },
        "outputId": "e5164772-6cea-4cb4-b9ae-686d064e9192"
      },
      "execution_count": 30,
      "outputs": [
        {
          "output_type": "execute_result",
          "data": {
            "text/plain": [
              "Text(0.5, 1.0, 'Total views per category')"
            ]
          },
          "metadata": {},
          "execution_count": 30
        },
        {
          "output_type": "display_data",
          "data": {
            "text/plain": [
              "<Figure size 2200x1000 with 1 Axes>"
            ],
            "image/png": "[encoded data removed]"
          },
          "metadata": {}
        }
      ]
    },
    {
      "cell_type": "markdown",
      "source": [
        "##End the SparkSession\n",
        "End the SparkSession in order for the JVMs to close and free the resourses."
      ],
      "metadata": {
        "id": "QGw0m8bjWlqz"
      }
    },
    {
      "cell_type": "code",
      "source": [
        "spark.stop()"
      ],
      "metadata": {
        "id": "VKjfSrPN7mO4"
      },
      "execution_count": 31,
      "outputs": []
    }
  ]
}